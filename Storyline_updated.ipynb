{
 "cells": [
  {
   "cell_type": "code",
   "execution_count": 8,
   "metadata": {},
   "outputs": [
    {
     "name": "stdout",
     "output_type": "stream",
     "text": [
      "The structure of the story as returned: \n",
      " [\"**Title:** Voyage through Infinity\\n\\n**Part 1: Departure and Discovery**\\nEli-9, amidst reciting poetry to the crew, stumbles across an unusual anomaly in space that hints at a hidden sector of the universe.\\n\\n**Part 2: Transcending Barriers**\\nAs the *Odyssey Prime* investigates the anomaly, Juno Fragments facilitates a startling encounter with a lost civilization, blurring the lines between organic and synthetic life.\\n\\n**Part 3: Reflection and Recognition**\\nFacing an existential crisis triggered by the remnants of the advanced civilization, Eli-9 begins to understand its own identity and purpose beyond its original programming.\\n\\n**Part 4: The Echoes of Constellar**\\nJuno Fragments grapples with the concept of individuality as it observes the crew's interactions, leading to an unforeseen evolution in its own collective consciousness.\\n\\n**Part 5: Convergence**\\nDr. Arjun Patel uncovers a cosmic truth linking the anomaly to Eli-9's creators, and with the help of Captain Lysandra Sable, navigates a course of action that could redefine their mission.\\n\\n**Part 6: Infinite Horizons**\\nIn a blend of poetry and quantum mechanics, Eli-9's unique perspective becomes key to embracing the vastness of existence, leaving a legacy that transcends the collective memory of species and machines alike.\"]\n"
     ]
    },
    {
     "ename": "TypeError",
     "evalue": "expected string or bytes-like object, got 'list'",
     "output_type": "error",
     "traceback": [
      "\u001b[0;31m---------------------------------------------------------------------------\u001b[0m",
      "\u001b[0;31mTypeError\u001b[0m                                 Traceback (most recent call last)",
      "Cell \u001b[0;32mIn[8], line 68\u001b[0m\n\u001b[1;32m     66\u001b[0m input_text \u001b[38;5;241m=\u001b[39m \u001b[38;5;124m\"\u001b[39m\u001b[38;5;124mWrite a short story in the style of Geoff Dyer about a spaceship voyage through the universe where a robot is just trying to live life.\u001b[39m\u001b[38;5;124m\"\u001b[39m\n\u001b[1;32m     67\u001b[0m chars \u001b[38;5;241m=\u001b[39m get_chars(input_text)\n\u001b[0;32m---> 68\u001b[0m storyline \u001b[38;5;241m=\u001b[39m \u001b[43mget_story\u001b[49m\u001b[43m(\u001b[49m\u001b[43minput_text\u001b[49m\u001b[43m,\u001b[49m\u001b[43m \u001b[49m\u001b[43mchars\u001b[49m\u001b[43m)\u001b[49m\n\u001b[1;32m     69\u001b[0m write_chapters(chars, storyline)\n\u001b[1;32m     70\u001b[0m \u001b[38;5;28mprint\u001b[39m(\u001b[38;5;124m\"\u001b[39m\u001b[38;5;124mStory has been written to \u001b[39m\u001b[38;5;124m'\u001b[39m\u001b[38;5;124mstory.txt\u001b[39m\u001b[38;5;124m'\u001b[39m\u001b[38;5;124m\"\u001b[39m)\n",
      "Cell \u001b[0;32mIn[8], line 49\u001b[0m, in \u001b[0;36mget_story\u001b[0;34m(input, chars)\u001b[0m\n\u001b[1;32m     47\u001b[0m response \u001b[38;5;241m=\u001b[39m ask_gpt3(messages)\n\u001b[1;32m     48\u001b[0m \u001b[38;5;28mprint\u001b[39m(\u001b[38;5;124mf\u001b[39m\u001b[38;5;124m\"\u001b[39m\u001b[38;5;124mThe structure of the story as returned: \u001b[39m\u001b[38;5;130;01m\\n\u001b[39;00m\u001b[38;5;124m \u001b[39m\u001b[38;5;132;01m{\u001b[39;00mresponse\u001b[38;5;132;01m}\u001b[39;00m\u001b[38;5;124m\"\u001b[39m)\n\u001b[0;32m---> 49\u001b[0m storyline_parts \u001b[38;5;241m=\u001b[39m \u001b[43mre\u001b[49m\u001b[38;5;241;43m.\u001b[39;49m\u001b[43msplit\u001b[49m\u001b[43m(\u001b[49m\u001b[38;5;124;43mr\u001b[39;49m\u001b[38;5;124;43m'\u001b[39;49m\u001b[38;5;124;43mPart \u001b[39;49m\u001b[38;5;124;43m\\\u001b[39;49m\u001b[38;5;124;43md+:\u001b[39;49m\u001b[38;5;124;43m'\u001b[39;49m\u001b[43m,\u001b[49m\u001b[43m \u001b[49m\u001b[43mresponse\u001b[49m\u001b[43m)\u001b[49m[\u001b[38;5;241m1\u001b[39m:]\n\u001b[1;32m     50\u001b[0m \u001b[38;5;28;01mreturn\u001b[39;00m [part\u001b[38;5;241m.\u001b[39mstrip() \u001b[38;5;28;01mfor\u001b[39;00m part \u001b[38;5;129;01min\u001b[39;00m storyline_parts]\n",
      "File \u001b[0;32m/opt/homebrew/Cellar/python@3.11/3.11.6_1/Frameworks/Python.framework/Versions/3.11/lib/python3.11/re/__init__.py:206\u001b[0m, in \u001b[0;36msplit\u001b[0;34m(pattern, string, maxsplit, flags)\u001b[0m\n\u001b[1;32m    198\u001b[0m \u001b[38;5;28;01mdef\u001b[39;00m \u001b[38;5;21msplit\u001b[39m(pattern, string, maxsplit\u001b[38;5;241m=\u001b[39m\u001b[38;5;241m0\u001b[39m, flags\u001b[38;5;241m=\u001b[39m\u001b[38;5;241m0\u001b[39m):\n\u001b[1;32m    199\u001b[0m \u001b[38;5;250m    \u001b[39m\u001b[38;5;124;03m\"\"\"Split the source string by the occurrences of the pattern,\u001b[39;00m\n\u001b[1;32m    200\u001b[0m \u001b[38;5;124;03m    returning a list containing the resulting substrings.  If\u001b[39;00m\n\u001b[1;32m    201\u001b[0m \u001b[38;5;124;03m    capturing parentheses are used in pattern, then the text of all\u001b[39;00m\n\u001b[0;32m   (...)\u001b[0m\n\u001b[1;32m    204\u001b[0m \u001b[38;5;124;03m    and the remainder of the string is returned as the final element\u001b[39;00m\n\u001b[1;32m    205\u001b[0m \u001b[38;5;124;03m    of the list.\"\"\"\u001b[39;00m\n\u001b[0;32m--> 206\u001b[0m     \u001b[38;5;28;01mreturn\u001b[39;00m \u001b[43m_compile\u001b[49m\u001b[43m(\u001b[49m\u001b[43mpattern\u001b[49m\u001b[43m,\u001b[49m\u001b[43m \u001b[49m\u001b[43mflags\u001b[49m\u001b[43m)\u001b[49m\u001b[38;5;241;43m.\u001b[39;49m\u001b[43msplit\u001b[49m\u001b[43m(\u001b[49m\u001b[43mstring\u001b[49m\u001b[43m,\u001b[49m\u001b[43m \u001b[49m\u001b[43mmaxsplit\u001b[49m\u001b[43m)\u001b[49m\n",
      "\u001b[0;31mTypeError\u001b[0m: expected string or bytes-like object, got 'list'"
     ]
    }
   ],
   "source": [
    "import os\n",
    "import re\n",
    "import openai\n",
    "from openai import OpenAI\n",
    "import time\n",
    "import json\n",
    "from dotenv import load_dotenv\n",
    "\n",
    "load_dotenv()\n",
    "openai.api_key = os.getenv('OPENAI_API_KEY')\n",
    "GPT_MODEL = \"gpt-4-1106-preview\"\n",
    "client = OpenAI()\n",
    "\n",
    "def submit_message_and_create_run(assistant_id, prompt):\n",
    "    thread = client.beta.threads.create()\n",
    "    client.beta.threads.messages.create(thread_id=thread.id, role=\"user\", content=prompt)\n",
    "    return client.beta.threads.runs.create(thread_id=thread.id, assistant_id=assistant_id), thread\n",
    "\n",
    "def wait_on_run_and_get_response(run, thread):\n",
    "    while run.status == \"queued\" or run.status == \"in_progress\":\n",
    "        run = client.beta.threads.runs.retrieve(thread_id=thread.id, run_id=run.id)\n",
    "        time.sleep(0.5)\n",
    "    messages = client.beta.threads.messages.list(thread_id=thread.id, order=\"asc\")\n",
    "    return [m.content[0].text.value for m in messages if m.role == 'assistant']\n",
    "\n",
    "assistant = client.beta.assistants.create(\n",
    "    name=\"Story Writer\",\n",
    "    instructions=\"You are an exceptionally creative story writer\",\n",
    "    model=GPT_MODEL,\n",
    ")\n",
    "\n",
    "ASSISTANT_ID = assistant.id\n",
    "\n",
    "def ask_gpt3(prompt, ASSISTANT_ID = assistant.id, max_retries=3, delay=2):\n",
    "    retries = 0\n",
    "    run, thread = submit_message_and_create_run(ASSISTANT_ID, prompt)\n",
    "    response = wait_on_run_and_get_response(run, thread)\n",
    "    return response\n",
    "\n",
    "def get_chars(input):\n",
    "    messages = f\"To solve this input, we need a list of characters and descriptions, both major and minor, who will have key parts to play. Help me write this please. {input}.\"\n",
    "    chars = ask_gpt3(messages)\n",
    "    return chars\n",
    "\n",
    "def get_story(input, chars):\n",
    "    messages = f\"From the given prompt, generate a 6-part structure for a story, where each part has a 1 sentence description of what exactly happens in that part. Please start each part with Part X: {input}. The key characters for the overall story are {chars}\"\n",
    "    response = ask_gpt3(messages)\n",
    "    print(f\"The structure of the story as returned: \\n {response}\")\n",
    "    if isinstance(response, list):\n",
    "        # Assuming each element in the list is a separate part of the story\n",
    "        storyline_parts = [part.strip() for part in response]\n",
    "    else:\n",
    "        # Handle the case where response is not a list\n",
    "        storyline_parts = re.split(r'Part \\d+:', response)[1:]\n",
    "        storyline_parts = [part.strip() for part in storyline_parts]\n",
    "    return storyline_parts\n",
    "\n",
    "def write_chapters(chars, storyline_parts):\n",
    "    with open('story.txt', 'w', encoding='utf-8') as story_file:\n",
    "        for index, part in enumerate(storyline_parts):\n",
    "            print(f\"{index}: {part}\")\n",
    "        for index, chapter_summary in enumerate(storyline_parts):\n",
    "            messages = f\"For this chapter, write the story and dialogue to explore it fully and bring the chapter to life. {chapter_summary}. The key characters for the overall story are {chars}\"\n",
    "            chapter_content = ask_gpt3(messages)\n",
    "\n",
    "            # Save chapter to file\n",
    "            story_file.write(f'Chapter {index + 1}\\n\\n')\n",
    "            story_file.write(chapter_content)\n",
    "            story_file.write('\\n\\n')\n",
    "\n",
    "if __name__ == \"__main__\":\n",
    "    input_text = \"Write a short story in the style of Geoff Dyer about a spaceship voyage through the universe where a robot is just trying to live life.\"\n",
    "    chars = get_chars(input_text)\n",
    "    storyline = get_story(input_text, chars)\n",
    "    write_chapters(chars, storyline)\n",
    "    print(\"Story has been written to 'story.txt'\")"
   ]
  }
 ],
 "metadata": {
  "kernelspec": {
   "display_name": "Python 3",
   "language": "python",
   "name": "python3"
  },
  "language_info": {
   "codemirror_mode": {
    "name": "ipython",
    "version": 3
   },
   "file_extension": ".py",
   "mimetype": "text/x-python",
   "name": "python",
   "nbconvert_exporter": "python",
   "pygments_lexer": "ipython3",
   "version": "3.11.6"
  },
  "orig_nbformat": 4
 },
 "nbformat": 4,
 "nbformat_minor": 2
}
